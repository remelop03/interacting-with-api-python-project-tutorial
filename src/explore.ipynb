{
    "cells": [
        {
            "cell_type": "markdown",
            "metadata": {},
            "source": [
                "# Interacting with an API using Python"
            ]
        },
        {
            "cell_type": "code",
            "execution_count": 21,
            "metadata": {},
            "outputs": [],
            "source": [
                "# Libraries\n",
                "import os\n",
                "import pandas as pd\n",
                "import seaborn as sns\n",
                "import matplotlib.pyplot as plt\n",
                "from dotenv import load_dotenv"
            ]
        },
        {
            "cell_type": "code",
            "execution_count": 2,
            "metadata": {},
            "outputs": [],
            "source": [
                "# Load the .env file variables\n",
                "load_dotenv();"
            ]
        },
        {
            "cell_type": "code",
            "execution_count": 3,
            "metadata": {},
            "outputs": [],
            "source": [
                "# Get credential values\n",
                "client_id = os.environ.get(\"CLIENT_ID\")\n",
                "client_secret = os.environ.get(\"CLIENT_SECRET\")"
            ]
        },
        {
            "cell_type": "code",
            "execution_count": 4,
            "metadata": {},
            "outputs": [],
            "source": [
                "import spotipy\n",
                "from spotipy.oauth2 import SpotifyClientCredentials"
            ]
        },
        {
            "cell_type": "code",
            "execution_count": 5,
            "metadata": {},
            "outputs": [],
            "source": [
                "artist_id = '1dfeR4HaWDbWqFHLkxsg1d'"
            ]
        },
        {
            "cell_type": "code",
            "execution_count": 6,
            "metadata": {},
            "outputs": [],
            "source": [
                "spotify = spotipy.Spotify(client_credentials_manager=SpotifyClientCredentials(client_id=client_id, client_secret=client_secret))\n",
                "results = spotify.artist_top_tracks(artist_id)"
            ]
        },
        {
            "cell_type": "code",
            "execution_count": 16,
            "metadata": {},
            "outputs": [],
            "source": [
                "songs = []\n",
                "popularity = []\n",
                "duration   = []\n",
                "\n",
                "for track in results['tracks']:\n",
                "    songs.append(track['name'])\n",
                "    popularity.append(track['popularity'])\n",
                "    duration.append(track['duration_ms']/(1000*60)%60)"
            ]
        },
        {
            "cell_type": "code",
            "execution_count": 17,
            "metadata": {},
            "outputs": [],
            "source": [
                "df = pd.DataFrame()\n",
                "\n",
                "df['Song'] = songs\n",
                "df['Popularity'] = popularity\n",
                "df['Duration'] = duration"
            ]
        },
        {
            "cell_type": "code",
            "execution_count": 18,
            "metadata": {},
            "outputs": [
                {
                    "data": {
                        "text/html": [
                            "<div>\n",
                            "<style scoped>\n",
                            "    .dataframe tbody tr th:only-of-type {\n",
                            "        vertical-align: middle;\n",
                            "    }\n",
                            "\n",
                            "    .dataframe tbody tr th {\n",
                            "        vertical-align: top;\n",
                            "    }\n",
                            "\n",
                            "    .dataframe thead th {\n",
                            "        text-align: right;\n",
                            "    }\n",
                            "</style>\n",
                            "<table border=\"1\" class=\"dataframe\">\n",
                            "  <thead>\n",
                            "    <tr style=\"text-align: right;\">\n",
                            "      <th></th>\n",
                            "      <th>Song</th>\n",
                            "      <th>Popularity</th>\n",
                            "      <th>Duration</th>\n",
                            "    </tr>\n",
                            "  </thead>\n",
                            "  <tbody>\n",
                            "    <tr>\n",
                            "      <th>0</th>\n",
                            "      <td>Bohemian Rhapsody - Remastered 2011</td>\n",
                            "      <td>75</td>\n",
                            "      <td>5.905333</td>\n",
                            "    </tr>\n",
                            "    <tr>\n",
                            "      <th>1</th>\n",
                            "      <td>Don't Stop Me Now - Remastered 2011</td>\n",
                            "      <td>77</td>\n",
                            "      <td>3.490217</td>\n",
                            "    </tr>\n",
                            "    <tr>\n",
                            "      <th>2</th>\n",
                            "      <td>Under Pressure - Remastered 2011</td>\n",
                            "      <td>76</td>\n",
                            "      <td>4.140667</td>\n",
                            "    </tr>\n",
                            "    <tr>\n",
                            "      <th>3</th>\n",
                            "      <td>Another One Bites The Dust - Remastered 2011</td>\n",
                            "      <td>76</td>\n",
                            "      <td>3.577550</td>\n",
                            "    </tr>\n",
                            "    <tr>\n",
                            "      <th>4</th>\n",
                            "      <td>We Will Rock You - Remastered 2011</td>\n",
                            "      <td>71</td>\n",
                            "      <td>2.034433</td>\n",
                            "    </tr>\n",
                            "    <tr>\n",
                            "      <th>5</th>\n",
                            "      <td>Crazy Little Thing Called Love - Remastered 2011</td>\n",
                            "      <td>71</td>\n",
                            "      <td>2.722883</td>\n",
                            "    </tr>\n",
                            "    <tr>\n",
                            "      <th>6</th>\n",
                            "      <td>Somebody To Love - Remastered 2011</td>\n",
                            "      <td>72</td>\n",
                            "      <td>4.941550</td>\n",
                            "    </tr>\n",
                            "    <tr>\n",
                            "      <th>7</th>\n",
                            "      <td>Killer Queen - Remastered 2011</td>\n",
                            "      <td>71</td>\n",
                            "      <td>2.993333</td>\n",
                            "    </tr>\n",
                            "    <tr>\n",
                            "      <th>8</th>\n",
                            "      <td>Radio Ga Ga - Remastered 2011</td>\n",
                            "      <td>67</td>\n",
                            "      <td>5.803767</td>\n",
                            "    </tr>\n",
                            "    <tr>\n",
                            "      <th>9</th>\n",
                            "      <td>We Are The Champions - Remastered 2011</td>\n",
                            "      <td>67</td>\n",
                            "      <td>2.986667</td>\n",
                            "    </tr>\n",
                            "  </tbody>\n",
                            "</table>\n",
                            "</div>"
                        ],
                        "text/plain": [
                            "                                               Song  Popularity  Duration\n",
                            "0               Bohemian Rhapsody - Remastered 2011          75  5.905333\n",
                            "1               Don't Stop Me Now - Remastered 2011          77  3.490217\n",
                            "2                  Under Pressure - Remastered 2011          76  4.140667\n",
                            "3      Another One Bites The Dust - Remastered 2011          76  3.577550\n",
                            "4                We Will Rock You - Remastered 2011          71  2.034433\n",
                            "5  Crazy Little Thing Called Love - Remastered 2011          71  2.722883\n",
                            "6                Somebody To Love - Remastered 2011          72  4.941550\n",
                            "7                    Killer Queen - Remastered 2011          71  2.993333\n",
                            "8                     Radio Ga Ga - Remastered 2011          67  5.803767\n",
                            "9            We Are The Champions - Remastered 2011          67  2.986667"
                        ]
                    },
                    "execution_count": 18,
                    "metadata": {},
                    "output_type": "execute_result"
                }
            ],
            "source": [
                "df"
            ]
        },
        {
            "cell_type": "code",
            "execution_count": 19,
            "metadata": {},
            "outputs": [
                {
                    "name": "stdout",
                    "output_type": "stream",
                    "text": [
                        "<class 'pandas.core.frame.DataFrame'>\n",
                        "RangeIndex: 10 entries, 0 to 9\n",
                        "Data columns (total 3 columns):\n",
                        " #   Column      Non-Null Count  Dtype  \n",
                        "---  ------      --------------  -----  \n",
                        " 0   Song        10 non-null     object \n",
                        " 1   Popularity  10 non-null     int64  \n",
                        " 2   Duration    10 non-null     float64\n",
                        "dtypes: float64(1), int64(1), object(1)\n",
                        "memory usage: 372.0+ bytes\n"
                    ]
                }
            ],
            "source": [
                "df.info()"
            ]
        },
        {
            "cell_type": "code",
            "execution_count": 20,
            "metadata": {},
            "outputs": [
                {
                    "data": {
                        "text/html": [
                            "<div>\n",
                            "<style scoped>\n",
                            "    .dataframe tbody tr th:only-of-type {\n",
                            "        vertical-align: middle;\n",
                            "    }\n",
                            "\n",
                            "    .dataframe tbody tr th {\n",
                            "        vertical-align: top;\n",
                            "    }\n",
                            "\n",
                            "    .dataframe thead th {\n",
                            "        text-align: right;\n",
                            "    }\n",
                            "</style>\n",
                            "<table border=\"1\" class=\"dataframe\">\n",
                            "  <thead>\n",
                            "    <tr style=\"text-align: right;\">\n",
                            "      <th></th>\n",
                            "      <th>Song</th>\n",
                            "      <th>Popularity</th>\n",
                            "      <th>Duration</th>\n",
                            "    </tr>\n",
                            "  </thead>\n",
                            "  <tbody>\n",
                            "    <tr>\n",
                            "      <th>0</th>\n",
                            "      <td>Don't Stop Me Now - Remastered 2011</td>\n",
                            "      <td>77</td>\n",
                            "      <td>3.490217</td>\n",
                            "    </tr>\n",
                            "    <tr>\n",
                            "      <th>1</th>\n",
                            "      <td>Under Pressure - Remastered 2011</td>\n",
                            "      <td>76</td>\n",
                            "      <td>4.140667</td>\n",
                            "    </tr>\n",
                            "    <tr>\n",
                            "      <th>2</th>\n",
                            "      <td>Another One Bites The Dust - Remastered 2011</td>\n",
                            "      <td>76</td>\n",
                            "      <td>3.577550</td>\n",
                            "    </tr>\n",
                            "    <tr>\n",
                            "      <th>3</th>\n",
                            "      <td>Bohemian Rhapsody - Remastered 2011</td>\n",
                            "      <td>75</td>\n",
                            "      <td>5.905333</td>\n",
                            "    </tr>\n",
                            "    <tr>\n",
                            "      <th>4</th>\n",
                            "      <td>Somebody To Love - Remastered 2011</td>\n",
                            "      <td>72</td>\n",
                            "      <td>4.941550</td>\n",
                            "    </tr>\n",
                            "    <tr>\n",
                            "      <th>5</th>\n",
                            "      <td>We Will Rock You - Remastered 2011</td>\n",
                            "      <td>71</td>\n",
                            "      <td>2.034433</td>\n",
                            "    </tr>\n",
                            "    <tr>\n",
                            "      <th>6</th>\n",
                            "      <td>Crazy Little Thing Called Love - Remastered 2011</td>\n",
                            "      <td>71</td>\n",
                            "      <td>2.722883</td>\n",
                            "    </tr>\n",
                            "    <tr>\n",
                            "      <th>7</th>\n",
                            "      <td>Killer Queen - Remastered 2011</td>\n",
                            "      <td>71</td>\n",
                            "      <td>2.993333</td>\n",
                            "    </tr>\n",
                            "    <tr>\n",
                            "      <th>8</th>\n",
                            "      <td>Radio Ga Ga - Remastered 2011</td>\n",
                            "      <td>67</td>\n",
                            "      <td>5.803767</td>\n",
                            "    </tr>\n",
                            "    <tr>\n",
                            "      <th>9</th>\n",
                            "      <td>We Are The Champions - Remastered 2011</td>\n",
                            "      <td>67</td>\n",
                            "      <td>2.986667</td>\n",
                            "    </tr>\n",
                            "  </tbody>\n",
                            "</table>\n",
                            "</div>"
                        ],
                        "text/plain": [
                            "                                               Song  Popularity  Duration\n",
                            "0               Don't Stop Me Now - Remastered 2011          77  3.490217\n",
                            "1                  Under Pressure - Remastered 2011          76  4.140667\n",
                            "2      Another One Bites The Dust - Remastered 2011          76  3.577550\n",
                            "3               Bohemian Rhapsody - Remastered 2011          75  5.905333\n",
                            "4                Somebody To Love - Remastered 2011          72  4.941550\n",
                            "5                We Will Rock You - Remastered 2011          71  2.034433\n",
                            "6  Crazy Little Thing Called Love - Remastered 2011          71  2.722883\n",
                            "7                    Killer Queen - Remastered 2011          71  2.993333\n",
                            "8                     Radio Ga Ga - Remastered 2011          67  5.803767\n",
                            "9            We Are The Champions - Remastered 2011          67  2.986667"
                        ]
                    },
                    "execution_count": 20,
                    "metadata": {},
                    "output_type": "execute_result"
                }
            ],
            "source": [
                "df = df.sort_values(by=\"Popularity\", ascending=False).reset_index(drop=True)\n",
                "df"
            ]
        },
        {
            "cell_type": "code",
            "execution_count": 22,
            "metadata": {},
            "outputs": [
                {
                    "data": {
                        "image/png": "[encoded data removed]",
                        "text/plain": [
                            "<Figure size 640x480 with 1 Axes>"
                        ]
                    },
                    "metadata": {},
                    "output_type": "display_data"
                }
            ],
            "source": [
                "# Data\n",
                "x = df['Duration']\n",
                "y = df['Popularity']\n",
                "# Create the scatter plot\n",
                "plt.scatter(x, y, marker=\"o\", color=\"blue\")\n",
                "# Customize the chart\n",
                "plt.title(\"Scatter Plot Between Duration and Popularity\")\n",
                "plt.xlabel(\"Duration\")\n",
                "plt.ylabel(\"Popularity\")\n",
                "# Display the chart\n",
                "plt.show()"
            ]
        }
    ],
    "metadata": {
        "kernelspec": {
            "display_name": "Python 3",
            "language": "python",
            "name": "python3"
        },
        "language_info": {
            "codemirror_mode": {
                "name": "ipython",
                "version": 3
            },
            "file_extension": ".py",
            "mimetype": "text/x-python",
            "name": "python",
            "nbconvert_exporter": "python",
            "pygments_lexer": "ipython3",
            "version": "3.11.4"
        },
        "orig_nbformat": 4
    },
    "nbformat": 4,
    "nbformat_minor": 2
}
