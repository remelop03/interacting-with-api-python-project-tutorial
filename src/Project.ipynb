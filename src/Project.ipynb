{
    "cells": [
        {
            "cell_type": "markdown",
            "metadata": {},
            "source": [
                "# Interacting with an API using Python"
            ]
        },
        {
            "cell_type": "code",
            "execution_count": 1,
            "metadata": {},
            "outputs": [],
            "source": [
                "# Libraries\n",
                "import pandas as pd\n",
                "import numpy as np\n",
                "import matplotlib.pyplot as plt\n",
                "import seaborn as sns\n",
                "from dotenv import load_dotenv"
            ]
        },
        {
            "cell_type": "code",
            "execution_count": 2,
            "metadata": {},
            "outputs": [],
            "source": [
                "import os\n",
                "import requests\n",
                "import time\n",
                "import sqlite3"
            ]
        },
        {
            "cell_type": "code",
            "execution_count": 3,
            "metadata": {},
            "outputs": [],
            "source": [
                "# Load the .env file variables\n",
                "load_dotenv();"
            ]
        },
        {
            "cell_type": "code",
            "execution_count": 4,
            "metadata": {},
            "outputs": [],
            "source": [
                "# Get credential values\n",
                "client_id = os.environ.get(\"CLIENT_ID\")\n",
                "client_secret = os.environ.get(\"CLIENT_SECRET\")"
            ]
        },
        {
            "cell_type": "code",
            "execution_count": 5,
            "metadata": {},
            "outputs": [],
            "source": [
                "import spotipy\n",
                "from spotipy.oauth2 import SpotifyClientCredentials"
            ]
        },
        {
            "cell_type": "code",
            "execution_count": 6,
            "metadata": {},
            "outputs": [],
            "source": [
                "artist_id = '1dfeR4HaWDbWqFHLkxsg1d'"
            ]
        },
        {
            "cell_type": "code",
            "execution_count": 7,
            "metadata": {},
            "outputs": [],
            "source": [
                "spotify = spotipy.Spotify(client_credentials_manager=SpotifyClientCredentials(client_id=client_id, client_secret=client_secret))\n",
                "results = spotify.artist_top_tracks(artist_id)"
            ]
        },
        {
            "cell_type": "code",
            "execution_count": 8,
            "metadata": {},
            "outputs": [],
            "source": [
                "songs = []\n",
                "popularity = []\n",
                "duration   = []\n",
                "\n",
                "for track in results['tracks']:\n",
                "    songs.append(track['name'])\n",
                "    popularity.append(track['popularity'])\n",
                "    duration.append(round(track['duration_ms']/(1000*60)%60, 2))"
            ]
        },
        {
            "cell_type": "code",
            "execution_count": 9,
            "metadata": {},
            "outputs": [],
            "source": [
                "df = pd.DataFrame()\n",
                "\n",
                "df['Song'] = songs\n",
                "df['Popularity'] = popularity\n",
                "df['Duration'] = duration"
            ]
        },
        {
            "cell_type": "code",
            "execution_count": 10,
            "metadata": {},
            "outputs": [
                {
                    "data": {
                        "text/html": [
                            "<div>\n",
                            "<style scoped>\n",
                            "    .dataframe tbody tr th:only-of-type {\n",
                            "        vertical-align: middle;\n",
                            "    }\n",
                            "\n",
                            "    .dataframe tbody tr th {\n",
                            "        vertical-align: top;\n",
                            "    }\n",
                            "\n",
                            "    .dataframe thead th {\n",
                            "        text-align: right;\n",
                            "    }\n",
                            "</style>\n",
                            "<table border=\"1\" class=\"dataframe\">\n",
                            "  <thead>\n",
                            "    <tr style=\"text-align: right;\">\n",
                            "      <th></th>\n",
                            "      <th>Song</th>\n",
                            "      <th>Popularity</th>\n",
                            "      <th>Duration</th>\n",
                            "    </tr>\n",
                            "  </thead>\n",
                            "  <tbody>\n",
                            "    <tr>\n",
                            "      <th>0</th>\n",
                            "      <td>Bohemian Rhapsody - Remastered 2011</td>\n",
                            "      <td>75</td>\n",
                            "      <td>5.91</td>\n",
                            "    </tr>\n",
                            "    <tr>\n",
                            "      <th>1</th>\n",
                            "      <td>Don't Stop Me Now - Remastered 2011</td>\n",
                            "      <td>77</td>\n",
                            "      <td>3.49</td>\n",
                            "    </tr>\n",
                            "    <tr>\n",
                            "      <th>2</th>\n",
                            "      <td>Under Pressure - Remastered 2011</td>\n",
                            "      <td>76</td>\n",
                            "      <td>4.14</td>\n",
                            "    </tr>\n",
                            "    <tr>\n",
                            "      <th>3</th>\n",
                            "      <td>Another One Bites The Dust - Remastered 2011</td>\n",
                            "      <td>76</td>\n",
                            "      <td>3.58</td>\n",
                            "    </tr>\n",
                            "    <tr>\n",
                            "      <th>4</th>\n",
                            "      <td>We Will Rock You - Remastered 2011</td>\n",
                            "      <td>71</td>\n",
                            "      <td>2.03</td>\n",
                            "    </tr>\n",
                            "    <tr>\n",
                            "      <th>5</th>\n",
                            "      <td>Crazy Little Thing Called Love - Remastered 2011</td>\n",
                            "      <td>71</td>\n",
                            "      <td>2.72</td>\n",
                            "    </tr>\n",
                            "    <tr>\n",
                            "      <th>6</th>\n",
                            "      <td>Somebody To Love - Remastered 2011</td>\n",
                            "      <td>72</td>\n",
                            "      <td>4.94</td>\n",
                            "    </tr>\n",
                            "    <tr>\n",
                            "      <th>7</th>\n",
                            "      <td>Killer Queen - Remastered 2011</td>\n",
                            "      <td>71</td>\n",
                            "      <td>2.99</td>\n",
                            "    </tr>\n",
                            "    <tr>\n",
                            "      <th>8</th>\n",
                            "      <td>Radio Ga Ga - Remastered 2011</td>\n",
                            "      <td>67</td>\n",
                            "      <td>5.80</td>\n",
                            "    </tr>\n",
                            "    <tr>\n",
                            "      <th>9</th>\n",
                            "      <td>We Are The Champions - Remastered 2011</td>\n",
                            "      <td>67</td>\n",
                            "      <td>2.99</td>\n",
                            "    </tr>\n",
                            "  </tbody>\n",
                            "</table>\n",
                            "</div>"
                        ],
                        "text/plain": [
                            "                                               Song  Popularity  Duration\n",
                            "0               Bohemian Rhapsody - Remastered 2011          75      5.91\n",
                            "1               Don't Stop Me Now - Remastered 2011          77      3.49\n",
                            "2                  Under Pressure - Remastered 2011          76      4.14\n",
                            "3      Another One Bites The Dust - Remastered 2011          76      3.58\n",
                            "4                We Will Rock You - Remastered 2011          71      2.03\n",
                            "5  Crazy Little Thing Called Love - Remastered 2011          71      2.72\n",
                            "6                Somebody To Love - Remastered 2011          72      4.94\n",
                            "7                    Killer Queen - Remastered 2011          71      2.99\n",
                            "8                     Radio Ga Ga - Remastered 2011          67      5.80\n",
                            "9            We Are The Champions - Remastered 2011          67      2.99"
                        ]
                    },
                    "execution_count": 10,
                    "metadata": {},
                    "output_type": "execute_result"
                }
            ],
            "source": [
                "df"
            ]
        },
        {
            "cell_type": "code",
            "execution_count": 11,
            "metadata": {},
            "outputs": [
                {
                    "name": "stdout",
                    "output_type": "stream",
                    "text": [
                        "<class 'pandas.core.frame.DataFrame'>\n",
                        "RangeIndex: 10 entries, 0 to 9\n",
                        "Data columns (total 3 columns):\n",
                        " #   Column      Non-Null Count  Dtype  \n",
                        "---  ------      --------------  -----  \n",
                        " 0   Song        10 non-null     object \n",
                        " 1   Popularity  10 non-null     int64  \n",
                        " 2   Duration    10 non-null     float64\n",
                        "dtypes: float64(1), int64(1), object(1)\n",
                        "memory usage: 372.0+ bytes\n"
                    ]
                }
            ],
            "source": [
                "df.info()"
            ]
        },
        {
            "cell_type": "code",
            "execution_count": 12,
            "metadata": {},
            "outputs": [
                {
                    "data": {
                        "text/html": [
                            "<div>\n",
                            "<style scoped>\n",
                            "    .dataframe tbody tr th:only-of-type {\n",
                            "        vertical-align: middle;\n",
                            "    }\n",
                            "\n",
                            "    .dataframe tbody tr th {\n",
                            "        vertical-align: top;\n",
                            "    }\n",
                            "\n",
                            "    .dataframe thead th {\n",
                            "        text-align: right;\n",
                            "    }\n",
                            "</style>\n",
                            "<table border=\"1\" class=\"dataframe\">\n",
                            "  <thead>\n",
                            "    <tr style=\"text-align: right;\">\n",
                            "      <th></th>\n",
                            "      <th>Song</th>\n",
                            "      <th>Popularity</th>\n",
                            "      <th>Duration</th>\n",
                            "    </tr>\n",
                            "  </thead>\n",
                            "  <tbody>\n",
                            "    <tr>\n",
                            "      <th>0</th>\n",
                            "      <td>Don't Stop Me Now - Remastered 2011</td>\n",
                            "      <td>77</td>\n",
                            "      <td>3.49</td>\n",
                            "    </tr>\n",
                            "    <tr>\n",
                            "      <th>1</th>\n",
                            "      <td>Under Pressure - Remastered 2011</td>\n",
                            "      <td>76</td>\n",
                            "      <td>4.14</td>\n",
                            "    </tr>\n",
                            "    <tr>\n",
                            "      <th>2</th>\n",
                            "      <td>Another One Bites The Dust - Remastered 2011</td>\n",
                            "      <td>76</td>\n",
                            "      <td>3.58</td>\n",
                            "    </tr>\n",
                            "    <tr>\n",
                            "      <th>3</th>\n",
                            "      <td>Bohemian Rhapsody - Remastered 2011</td>\n",
                            "      <td>75</td>\n",
                            "      <td>5.91</td>\n",
                            "    </tr>\n",
                            "    <tr>\n",
                            "      <th>4</th>\n",
                            "      <td>Somebody To Love - Remastered 2011</td>\n",
                            "      <td>72</td>\n",
                            "      <td>4.94</td>\n",
                            "    </tr>\n",
                            "    <tr>\n",
                            "      <th>5</th>\n",
                            "      <td>We Will Rock You - Remastered 2011</td>\n",
                            "      <td>71</td>\n",
                            "      <td>2.03</td>\n",
                            "    </tr>\n",
                            "    <tr>\n",
                            "      <th>6</th>\n",
                            "      <td>Crazy Little Thing Called Love - Remastered 2011</td>\n",
                            "      <td>71</td>\n",
                            "      <td>2.72</td>\n",
                            "    </tr>\n",
                            "    <tr>\n",
                            "      <th>7</th>\n",
                            "      <td>Killer Queen - Remastered 2011</td>\n",
                            "      <td>71</td>\n",
                            "      <td>2.99</td>\n",
                            "    </tr>\n",
                            "    <tr>\n",
                            "      <th>8</th>\n",
                            "      <td>Radio Ga Ga - Remastered 2011</td>\n",
                            "      <td>67</td>\n",
                            "      <td>5.80</td>\n",
                            "    </tr>\n",
                            "    <tr>\n",
                            "      <th>9</th>\n",
                            "      <td>We Are The Champions - Remastered 2011</td>\n",
                            "      <td>67</td>\n",
                            "      <td>2.99</td>\n",
                            "    </tr>\n",
                            "  </tbody>\n",
                            "</table>\n",
                            "</div>"
                        ],
                        "text/plain": [
                            "                                               Song  Popularity  Duration\n",
                            "0               Don't Stop Me Now - Remastered 2011          77      3.49\n",
                            "1                  Under Pressure - Remastered 2011          76      4.14\n",
                            "2      Another One Bites The Dust - Remastered 2011          76      3.58\n",
                            "3               Bohemian Rhapsody - Remastered 2011          75      5.91\n",
                            "4                Somebody To Love - Remastered 2011          72      4.94\n",
                            "5                We Will Rock You - Remastered 2011          71      2.03\n",
                            "6  Crazy Little Thing Called Love - Remastered 2011          71      2.72\n",
                            "7                    Killer Queen - Remastered 2011          71      2.99\n",
                            "8                     Radio Ga Ga - Remastered 2011          67      5.80\n",
                            "9            We Are The Champions - Remastered 2011          67      2.99"
                        ]
                    },
                    "execution_count": 12,
                    "metadata": {},
                    "output_type": "execute_result"
                }
            ],
            "source": [
                "df = df.sort_values(by=\"Popularity\", ascending=False).reset_index(drop=True)\n",
                "df"
            ]
        },
        {
            "cell_type": "code",
            "execution_count": 13,
            "metadata": {},
            "outputs": [
                {
                    "data": {
                        "image/png": "[encoded data removed]",
                        "text/plain": [
                            "<Figure size 640x480 with 1 Axes>"
                        ]
                    },
                    "metadata": {},
                    "output_type": "display_data"
                }
            ],
            "source": [
                "# Data\n",
                "x = df['Duration']\n",
                "y = df['Popularity']\n",
                "# Create the scatter plot\n",
                "plt.scatter(x, y, marker=\"o\", color=\"blue\")\n",
                "# Customize the chart\n",
                "plt.title(\"Scatter Plot Between Duration and Popularity\")\n",
                "plt.xlabel(\"Duration\")\n",
                "plt.ylabel(\"Popularity\")\n",
                "# Display the chart\n",
                "plt.show()"
            ]
        },
        {
            "cell_type": "code",
            "execution_count": 22,
            "metadata": {},
            "outputs": [
                {
                    "name": "stdout",
                    "output_type": "stream",
                    "text": [
                        "As can be seen, there is no direct relationship between the length of the song and its popularity.\n"
                    ]
                }
            ],
            "source": [
                "print('As can be seen, there is no direct relationship between the length of the song and its popularity.')"
            ]
        },
        {
            "cell_type": "code",
            "execution_count": 14,
            "metadata": {},
            "outputs": [],
            "source": [
                "database_name = 'spotify.db'"
            ]
        },
        {
            "cell_type": "code",
            "execution_count": 15,
            "metadata": {},
            "outputs": [],
            "source": [
                "conn = sqlite3.connect(database_name)"
            ]
        },
        {
            "cell_type": "code",
            "execution_count": 16,
            "metadata": {},
            "outputs": [],
            "source": [
                "table_name = 'most_streamed_songs'"
            ]
        },
        {
            "cell_type": "code",
            "execution_count": 17,
            "metadata": {},
            "outputs": [],
            "source": [
                "df.to_sql(table_name, conn, if_exists='replace', index=False);"
            ]
        },
        {
            "cell_type": "code",
            "execution_count": 18,
            "metadata": {},
            "outputs": [],
            "source": [
                "cursor = conn.cursor()"
            ]
        },
        {
            "cell_type": "code",
            "execution_count": 19,
            "metadata": {},
            "outputs": [],
            "source": [
                "pulled_data = cursor.execute('SELECT * FROM most_streamed_songs')"
            ]
        },
        {
            "cell_type": "code",
            "execution_count": 20,
            "metadata": {},
            "outputs": [],
            "source": [
                "conn.commit()"
            ]
        },
        {
            "cell_type": "code",
            "execution_count": 21,
            "metadata": {},
            "outputs": [
                {
                    "name": "stdout",
                    "output_type": "stream",
                    "text": [
                        "Song = Don't Stop Me Now - Remastered 2011, Popularity = 77, Duration = 3.49\n",
                        "Song = Under Pressure - Remastered 2011, Popularity = 76, Duration = 4.14\n",
                        "Song = Another One Bites The Dust - Remastered 2011, Popularity = 76, Duration = 3.58\n",
                        "Song = Bohemian Rhapsody - Remastered 2011, Popularity = 75, Duration = 5.91\n",
                        "Song = Somebody To Love - Remastered 2011, Popularity = 72, Duration = 4.94\n",
                        "Song = We Will Rock You - Remastered 2011, Popularity = 71, Duration = 2.03\n",
                        "Song = Crazy Little Thing Called Love - Remastered 2011, Popularity = 71, Duration = 2.72\n",
                        "Song = Killer Queen - Remastered 2011, Popularity = 71, Duration = 2.99\n",
                        "Song = Radio Ga Ga - Remastered 2011, Popularity = 67, Duration = 5.8\n",
                        "Song = We Are The Champions - Remastered 2011, Popularity = 67, Duration = 2.99\n"
                    ]
                }
            ],
            "source": [
                "for row in pulled_data:\n",
                "    print(f\"Song = {row[0]}, Popularity = {row[1]}, Duration = {row[2]}\")"
            ]
        }
    ],
    "metadata": {
        "kernelspec": {
            "display_name": "Python 3",
            "language": "python",
            "name": "python3"
        },
        "language_info": {
            "codemirror_mode": {
                "name": "ipython",
                "version": 3
            },
            "file_extension": ".py",
            "mimetype": "text/x-python",
            "name": "python",
            "nbconvert_exporter": "python",
            "pygments_lexer": "ipython3",
            "version": "3.11.4"
        },
        "orig_nbformat": 4
    },
    "nbformat": 4,
    "nbformat_minor": 2
}
